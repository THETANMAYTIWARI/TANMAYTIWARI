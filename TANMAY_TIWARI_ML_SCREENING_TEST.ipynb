{
  "nbformat": 4,
  "nbformat_minor": 0,
  "metadata": {
    "colab": {
      "provenance": [],
      "gpuType": "T4"
    },
    "kernelspec": {
      "name": "python3",
      "display_name": "Python 3"
    },
    "language_info": {
      "name": "python"
    },
    "accelerator": "GPU"
  },
  "cells": [
    {
      "cell_type": "markdown",
      "source": [
        "## Q.1) Read the target and type of regression to be run"
      ],
      "metadata": {
        "id": "rlSQiy2TVTuQ"
      }
    },
    {
      "cell_type": "code",
      "execution_count": 1,
      "metadata": {
        "colab": {
          "base_uri": "https://localhost:8080/",
          "height": 489
        },
        "id": "nJdc8mD8UPWw",
        "outputId": "637dec06-bff6-4fce-8c08-ee3dfacbc5bf"
      },
      "outputs": [
        {
          "output_type": "stream",
          "name": "stdout",
          "text": [
            "R-squared score: 0.9538424636384967\n"
          ]
        },
        {
          "output_type": "display_data",
          "data": {
            "text/plain": [
              "<Figure size 640x480 with 1 Axes>"
            ],
            "image/png": "[encoded data removed]"
          },
          "metadata": {}
        }
      ],
      "source": [
        "import pandas as pd\n",
        "from sklearn.model_selection import train_test_split\n",
        "from sklearn.linear_model import LinearRegression\n",
        "from sklearn.preprocessing import OneHotEncoder\n",
        "import matplotlib.pyplot as plt\n",
        "\n",
        "# Loading the data into a pandas DataFrame\n",
        "data = pd.read_csv('/content/iris.csv')\n",
        "\n",
        "# Converting categorical variables to numeric using one-hot encoding\n",
        "data = pd.get_dummies(data, columns=['species'], drop_first=True)\n",
        "\n",
        "# Assuming 'petal_width' is the target variable\n",
        "X = data.drop('petal_width', axis=1)\n",
        "y = data['petal_width']\n",
        "\n",
        "# Partitioning the data into training and testing sets\n",
        "X_train, X_test, y_train, y_test = train_test_split(X, y, test_size=0.2, random_state=42)\n",
        "\n",
        "# Creating the regression model\n",
        "regression_model = LinearRegression()\n",
        "\n",
        "# Fitting the model to the training data\n",
        "regression_model.fit(X_train, y_train)\n",
        "\n",
        "# Making predictions on the test set\n",
        "y_pred = regression_model.predict(X_test)\n",
        "\n",
        "# Evaluating the model's performance\n",
        "from sklearn.metrics import r2_score\n",
        "r2_score_value = r2_score(y_test, y_pred)\n",
        "print(f'R-squared score: {r2_score_value}')\n",
        "\n",
        "# Visualizing the actual vs. predicted values\n",
        "plt.scatter(y_test, y_pred)\n",
        "plt.xlabel('Actual Petal Width')\n",
        "plt.ylabel('Predicted Petal Width')\n",
        "plt.title('Actual vs. Predicted Petal Width')\n",
        "plt.show()"
      ]
    },
    {
      "cell_type": "markdown",
      "source": [
        "## Q.2) Read the features (which are column names in the csv) and figure out what missing imputation needs to be applied and apply that to the columns loaded in a dataframe"
      ],
      "metadata": {
        "id": "NaAqO-gBYLd8"
      }
    },
    {
      "cell_type": "code",
      "source": [
        "import pandas as pd\n",
        "\n",
        "# Loading the data into a pandas DataFrame\n",
        "data = pd.read_csv('/content/iris.csv')\n",
        "\n",
        "# Feature Handling details for \"sepal_length\"\n",
        "sepal_length_handling = {\n",
        "    \"feature_name\": \"sepal_length\",\n",
        "    \"is_selected\": True,\n",
        "    \"feature_variable_type\": \"numerical\",\n",
        "    \"feature_details\": {\n",
        "        \"numerical_handling\": \"Keep as regular numerical feature\",\n",
        "        \"rescaling\": \"No rescaling\",\n",
        "        \"make_derived_feats\": False,\n",
        "        \"missing_values\": \"Impute\",\n",
        "        \"impute_with\": \"Average of values\",\n",
        "        \"impute_value\": 0\n",
        "    }\n",
        "}\n",
        "\n",
        "# Checking if missing value imputation is required for \"sepal_length\"\n",
        "if sepal_length_handling[\"feature_details\"][\"missing_values\"] == \"Impute\":\n",
        "    impute_value = sepal_length_handling[\"feature_details\"][\"impute_value\"]\n",
        "    data[\"sepal_length\"].fillna(impute_value, inplace=True)\n",
        "\n",
        "print(data.head(10))\n"
      ],
      "metadata": {
        "colab": {
          "base_uri": "https://localhost:8080/"
        },
        "id": "VkmQDEsRU-XA",
        "outputId": "e6d56cf0-3ef5-46e2-e1a3-092a50cf2e87"
      },
      "execution_count": 2,
      "outputs": [
        {
          "output_type": "stream",
          "name": "stdout",
          "text": [
            "   sepal_length  sepal_width  petal_length  petal_width      species\n",
            "0           5.1          3.5           1.4          0.2  Iris-setosa\n",
            "1           4.9          3.0           1.4          0.2  Iris-setosa\n",
            "2           4.7          3.2           1.3          0.2  Iris-setosa\n",
            "3           4.6          3.1           1.5          0.2  Iris-setosa\n",
            "4           5.0          3.6           1.4          0.2  Iris-setosa\n",
            "5           5.4          3.9           1.7          0.4  Iris-setosa\n",
            "6           4.6          3.4           1.4          0.3  Iris-setosa\n",
            "7           5.0          3.4           1.5          0.2  Iris-setosa\n",
            "8           4.4          2.9           1.4          0.2  Iris-setosa\n",
            "9           4.9          3.1           1.5          0.1  Iris-setosa\n"
          ]
        }
      ]
    },
    {
      "cell_type": "code",
      "source": [
        "import pandas as pd\n",
        "from sklearn.model_selection import train_test_split\n",
        "from sklearn.ensemble import RandomForestRegressor\n",
        "from sklearn.decomposition import PCA\n",
        "from sklearn.preprocessing import LabelEncoder, OneHotEncoder\n",
        "import json\n",
        "\n",
        "# Loading the data into a pandas DataFrame\n",
        "data = pd.read_csv('/content/iris.csv')\n",
        "\n",
        "# Encoding the target variable if it contains string labels\n",
        "if data[\"petal_width\"].dtype == 'object':\n",
        "    label_encoder = LabelEncoder()\n",
        "    data[\"petal_width\"] = label_encoder.fit_transform(data[\"petal_width\"])\n",
        "\n",
        "# One-hot encoding categorical features (if any)\n",
        "categorical_columns = data.select_dtypes(include='object').columns\n",
        "if len(categorical_columns) > 0:\n",
        "    onehot_encoder = OneHotEncoder(drop='first', sparse_output=False)\n",
        "    X_encoded = onehot_encoder.fit_transform(data[categorical_columns])\n",
        "\n",
        "    if X_encoded.shape[1] > 0:\n",
        "        column_names = [f\"{col}={val}\" for col, val in zip(categorical_columns, onehot_encoder.categories_[0])]\n",
        "        if len(column_names) == X_encoded.shape[1]:\n",
        "            X_encoded_df = pd.DataFrame(X_encoded, columns=column_names)\n",
        "            data = pd.concat([data.drop(categorical_columns, axis=1), X_encoded_df], axis=1)\n",
        "        else:\n",
        "            X_encoded_df = pd.DataFrame(X_encoded)  # Use default column names\n",
        "            data = pd.concat([data.drop(categorical_columns, axis=1), X_encoded_df], axis=1)\n",
        "\n",
        "# Loading the JSON configuration file\n",
        "with open('/content/algoparams_from_ui.json', 'r') as config_file:\n",
        "    json_config = json.load(config_file)\n",
        "\n",
        "# Feature Reduction based on the selected method\n",
        "if json_config.get(\"feature_reduction\") and json_config[\"feature_reduction\"].get(\"feature_reduction_method\"):\n",
        "    if json_config[\"feature_reduction\"][\"feature_reduction_method\"] == \"No Reduction\":\n",
        "        # No feature reduction\n",
        "        data_reduced = data.copy()\n",
        "    elif json_config[\"feature_reduction\"][\"feature_reduction_method\"] == \"Corr with Target\":\n",
        "        # Feature reduction using correlation with target\n",
        "        features = data.drop(\"petal_width\", axis=1)\n",
        "        target = data[\"petal_width\"]\n",
        "        corr = features.corrwith(target)\n",
        "        selected_features = corr[corr > 0.5].index\n",
        "        data_reduced = data[selected_features]\n",
        "    elif json_config[\"feature_reduction\"][\"feature_reduction_method\"] == \"Tree-based\":\n",
        "        # Feature reduction using RandomForestRegressor\n",
        "        target_column = \"petal_width\"\n",
        "        features = data.drop(target_column, axis=1)\n",
        "        target = data[target_column]\n",
        "        rf = RandomForestRegressor(n_estimators=15, max_depth=20)\n",
        "        rf.fit(features, target)\n",
        "        importances = pd.Series(rf.feature_importances_, index=features.columns)\n",
        "        selected_features = importances.nlargest(json_config[\"feature_reduction\"][\"num_of_features_to_keep\"]).index\n",
        "        data_reduced = data[selected_features]\n",
        "    elif json_config[\"feature_reduction\"][\"feature_reduction_method\"] == \"PCA\":\n",
        "        # Feature reduction using PCA\n",
        "        pca = PCA(n_components=json_config[\"feature_reduction\"][\"num_of_features_to_keep\"])\n",
        "        X_reduced = pca.fit_transform(data.drop(\"petal_width\", axis=1))\n",
        "        data_reduced = pd.DataFrame(X_reduced, columns=[f\"PC{i}\" for i in range(1, X_reduced.shape[1] + 1)])\n",
        "        data_reduced['petal_width'] = data['petal_width']  # Adding the target back to the reduced data\n",
        "else:\n",
        "    data_reduced = data.copy()\n",
        "\n",
        "# Preparing the data for regression\n",
        "X = data_reduced.drop(\"petal_width\", axis=1)\n",
        "X.columns = X.columns.astype(str)  # Converting all column names to strings\n",
        "y = data_reduced[\"petal_width\"]\n",
        "\n",
        "# Splitting the data into training and testing sets\n",
        "X_train, X_test, y_train, y_test = train_test_split(X, y, test_size=0.2, random_state=42)\n",
        "\n",
        "# Checking if there are enough samples for training and testing\n",
        "if len(X_train) == 0 or len(X_test) == 0:\n",
        "    raise ValueError(\"No samples left after data preprocessing. Please check your data and feature reduction settings.\")\n",
        "\n",
        "# Creating the RandomForestRegressor model\n",
        "regressor = RandomForestRegressor(n_estimators=15, max_depth=20)\n",
        "\n",
        "# Fitting the model to the training data\n",
        "regressor.fit(X_train, y_train)\n",
        "\n",
        "# Making predictions on the test set\n",
        "y_pred = regressor.predict(X_test)\n",
        "\n",
        "# If the target variable was originally encoded, convert numeric predictions back to the original string labels\n",
        "if data[\"petal_width\"].dtype == 'object':\n",
        "    y_pred_original = label_encoder.inverse_transform(y_pred.astype(int))\n",
        "else:\n",
        "    y_pred_original = y_pred\n",
        "\n",
        "# Printing the predicted target values\n",
        "print(y_pred_original)"
      ],
      "metadata": {
        "colab": {
          "base_uri": "https://localhost:8080/"
        },
        "id": "l7FwlQM6CApW",
        "outputId": "ab57b1e5-187c-4e0a-ed6a-7868af4849eb"
      },
      "execution_count": 3,
      "outputs": [
        {
          "output_type": "stream",
          "name": "stdout",
          "text": [
            "[1.43333333 0.36       1.87333333 1.52       1.64666667 0.21333333\n",
            " 1.15333333 1.94666667 1.4        1.18666667 2.04       0.18\n",
            " 0.23111111 0.11333333 0.3        1.45333333 1.76666667 1.32\n",
            " 1.5        1.76666667 0.2        1.77333333 0.25333333 1.76666667\n",
            " 2.23333333 1.96666667 1.76666667 2.14666667 0.18       0.12      ]\n"
          ]
        }
      ]
    },
    {
      "cell_type": "markdown",
      "source": [
        "## Q.4 ) Parse the Json and make the model objects (using sklean) that can handle what is required in the “prediction_type” specified in the JSON (See #1 where “prediction_type” is specified). Keep in mind not to pick models that don’t apply for the prediction_type specified"
      ],
      "metadata": {
        "id": "S8Q2IsYbbUnO"
      }
    },
    {
      "cell_type": "code",
      "source": [
        "import json\n",
        "from sklearn.ensemble import RandomForestClassifier\n",
        "from sklearn.linear_model import LinearRegression\n",
        "\n",
        "with open(\"algoparams_from_ui.json\", \"r\") as f:\n",
        "    json_config = json.load(f)\n",
        "\n",
        "prediction_type = json_config.get(\"prediction_type\", \"classification\")\n",
        "model_name = json_config.get(\"model_name\", \"RandomForestClassifier\")\n",
        "parameters = json_config.get(\"parameters\", {})\n",
        "\n",
        "if prediction_type == \"classification\":\n",
        "    if model_name == \"RandomForestClassifier\":\n",
        "        model = RandomForestClassifier(**parameters)\n",
        "    elif model_name == \"LogisticRegression\":\n",
        "        model = LogisticRegression(**parameters)\n",
        "    else:\n",
        "        raise ValueError(\"Invalid model_name\")\n",
        "elif prediction_type == \"regression\":\n",
        "    model = LinearRegression(**parameters)\n",
        "else:\n",
        "    raise ValueError(\"Invalid prediction_type\")"
      ],
      "metadata": {
        "id": "6eRpXIsRQ2qO"
      },
      "execution_count": 4,
      "outputs": []
    },
    {
      "cell_type": "markdown",
      "source": [
        "## Q.5 ) Run the fit and predict on each model – keep in mind that you need to do hyper parameter tuning i.e., use GridSearchCV"
      ],
      "metadata": {
        "id": "wJiDH88vcd84"
      }
    },
    {
      "cell_type": "code",
      "source": [
        "import json\n",
        "from sklearn.model_selection import GridSearchCV\n",
        "from sklearn.ensemble import RandomForestClassifier\n",
        "from sklearn.preprocessing import LabelEncoder\n",
        "from sklearn.model_selection import KFold\n",
        "\n",
        "with open(\"algoparams_from_ui.json\", \"r\") as f:\n",
        "    json_config = json.load(f)\n",
        "\n",
        "prediction_type = json_config.get(\"prediction_type\", \"classification\")\n",
        "model_name = json_config.get(\"model_name\", \"RandomForestClassifier\")\n",
        "parameters = json_config.get(\"parameters\", {})\n",
        "\n",
        "if prediction_type == \"classification\":\n",
        "    param_grid = {\n",
        "        \"n_estimators\": [10, 20, 30],\n",
        "        \"max_depth\": [3, 5, 7],\n",
        "        \"min_samples_split\": [2, 5, 10],\n",
        "        \"min_samples_leaf\": [1, 2, 3],\n",
        "        \"max_features\": [\"sqrt\", \"log2\"]\n",
        "    }\n",
        "    label_encoder = LabelEncoder()\n",
        "    y_train = label_encoder.fit_transform(y_train)\n",
        "\n",
        "    try:\n",
        "        kfold = KFold(n_splits=3, shuffle=True, random_state=42)\n",
        "        grid_search = GridSearchCV(RandomForestClassifier(), param_grid, cv=kfold)\n",
        "        grid_search.fit(X_train, y_train)\n",
        "        best_model = grid_search.best_estimator_\n",
        "    except ValueError as e:\n",
        "        print(e)\n",
        "else:\n",
        "    raise ValueError(\"Invalid prediction_type\")\n"
      ],
      "metadata": {
        "id": "HNSNXSm-aObQ"
      },
      "execution_count": 5,
      "outputs": []
    },
    {
      "cell_type": "markdown",
      "source": [
        "## Q.6 ) Log to the console the standard model metrics that apply"
      ],
      "metadata": {
        "id": "o2UKl7u8zm-q"
      }
    },
    {
      "cell_type": "code",
      "source": [
        "import json\n",
        "import pandas as pd\n",
        "from sklearn.model_selection import GridSearchCV, train_test_split\n",
        "from sklearn.ensemble import RandomForestClassifier\n",
        "from sklearn.model_selection import KFold\n",
        "from sklearn.metrics import accuracy_score, precision_score, recall_score, f1_score\n",
        "\n",
        "data = pd.read_csv(\"/content/iris.csv\")\n",
        "\n",
        "with open(\"algoparams_from_ui.json\", \"r\") as f:\n",
        "    json_config = json.load(f)\n",
        "\n",
        "prediction_type = json_config.get(\"prediction_type\", \"classification\")\n",
        "model_name = json_config.get(\"model_name\", \"RandomForestClassifier\")\n",
        "parameters = json_config.get(\"parameters\", {})\n",
        "\n",
        "if prediction_type == \"classification\":\n",
        "    param_grid = {\n",
        "        \"n_estimators\": [10, 20, 30],\n",
        "        \"max_depth\": [3, 5, 7],\n",
        "        \"min_samples_split\": [2, 5, 10],\n",
        "        \"min_samples_leaf\": [1, 2, 3],\n",
        "        \"max_features\": [\"sqrt\", \"log2\"]\n",
        "    }\n",
        "\n",
        "    # Replacing class labels with numeric labels\n",
        "    data['species'] = data['species'].replace({'Iris-setosa': 0, 'Iris-versicolor': 1, 'Iris-virginica': 2})\n",
        "\n",
        "    try:\n",
        "        kfold = KFold(n_splits=3, shuffle=True, random_state=42)\n",
        "        grid_search = GridSearchCV(RandomForestClassifier(), param_grid, cv=kfold)\n",
        "\n",
        "        X = data.drop(\"species\", axis=1)\n",
        "        y = data[\"species\"]\n",
        "\n",
        "        grid_search.fit(X, y)\n",
        "        best_model = grid_search.best_estimator_\n",
        "\n",
        "        X_train, X_test, y_train, y_test = train_test_split(X, y, test_size=0.2, random_state=42)\n",
        "        best_model.fit(X_train, y_train)\n",
        "        y_pred = best_model.predict(X_test)\n",
        "\n",
        "        print(\"Accuracy:\", accuracy_score(y_test, y_pred))\n",
        "        print(\"Precision:\", precision_score(y_test, y_pred, average='weighted'))\n",
        "        print(\"Recall:\", recall_score(y_test, y_pred, average='weighted'))\n",
        "        print(\"F1 score:\", f1_score(y_test, y_pred, average='weighted'))\n",
        "    except ValueError as e:\n",
        "        print(e)\n",
        "else:\n",
        "    raise ValueError(\"Invalid prediction_type\")\n"
      ],
      "metadata": {
        "colab": {
          "base_uri": "https://localhost:8080/"
        },
        "id": "LTZeJCXkce-I",
        "outputId": "481166c9-2ba6-464c-a79c-baac770767bb"
      },
      "execution_count": 9,
      "outputs": [
        {
          "output_type": "stream",
          "name": "stdout",
          "text": [
            "Accuracy: 1.0\n",
            "Precision: 1.0\n",
            "Recall: 1.0\n",
            "F1 score: 1.0\n"
          ]
        }
      ]
    },
    {
      "cell_type": "markdown",
      "source": [
        "## THE END"
      ],
      "metadata": {
        "id": "kA9qVfbSzh07"
      }
    }
  ]
}